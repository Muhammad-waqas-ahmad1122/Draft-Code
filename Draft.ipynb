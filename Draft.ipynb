{
 "cells": [
  {
   "cell_type": "code",
   "execution_count": 2,
   "metadata": {},
   "outputs": [
    {
     "name": "stdout",
     "output_type": "stream",
     "text": [
      "flopy is installed in C:\\Anaconda3\\lib\\site-packages\\flopy\n"
     ]
    }
   ],
   "source": [
    "import flopy"
   ]
  },
  {
   "cell_type": "code",
   "execution_count": 3,
   "metadata": {},
   "outputs": [],
   "source": [
    "import numpy as np"
   ]
  },
  {
   "cell_type": "code",
   "execution_count": 4,
   "metadata": {},
   "outputs": [],
   "source": [
    "import pandas as pd"
   ]
  },
  {
   "cell_type": "code",
   "execution_count": 5,
   "metadata": {},
   "outputs": [],
   "source": [
    "import flopy.modflow as fpm"
   ]
  },
  {
   "cell_type": "code",
   "execution_count": 6,
   "metadata": {},
   "outputs": [],
   "source": [
    "import csv\n",
    "\n",
    "with open('coord.txt', newline='') as csvfile:\n",
    "    data = list(csv.reader(csvfile))\n",
    "\n",
    "#-print(data)\n"
   ]
  },
  {
   "cell_type": "code",
   "execution_count": 7,
   "metadata": {},
   "outputs": [],
   "source": [
    "# Elevation of Layers\n",
    "Layer_1 = 0\n",
    "Layer_2 = -10\n",
    "Layer_3 = -30"
   ]
  },
  {
   "cell_type": "code",
   "execution_count": 8,
   "metadata": {},
   "outputs": [],
   "source": [
    "# Boundries for DIS\n",
    "Lx = 1000\n",
    "Ly = 1000\n",
    "ztop = 0\n",
    "zbot = -30\n",
    "nlay = 1\n",
    "nrow = 100\n",
    "ncol = 100\n",
    "delr = Lx / ncol\n",
    "delc = Ly / nrow\n",
    "delv = (ztop - zbot) / nlay"
   ]
  },
  {
   "cell_type": "code",
   "execution_count": 9,
   "metadata": {},
   "outputs": [],
   "source": [
    "model_name = 'modelx'\n",
    "mf = flopy.modflow.Modflow(model_name, exe_name='mf2005')"
   ]
  },
  {
   "cell_type": "code",
   "execution_count": 10,
   "metadata": {},
   "outputs": [],
   "source": [
    "disc = flopy.modflow.ModflowDis(mf, nlay, nrow, ncol, delr=delr, delc=delc,\n",
    "                               top=ztop, botm = zbot)"
   ]
  },
  {
   "cell_type": "code",
   "execution_count": 11,
   "metadata": {},
   "outputs": [],
   "source": [
    "ibound = np.ones((nlay, nrow, ncol), dtype=np.int32)\n",
    "ibound[:, :, 0] = -1\n",
    "ibound[:, :, -1] = -1\n",
    "strt = np.ones((nlay, nrow, ncol), dtype=np.float32)\n",
    "strt[:, :, 0] = 10.\n",
    "strt[:, :, -1] = 10.\n",
    "bas = flopy.modflow.ModflowBas(mf, ibound=ibound, strt=strt)"
   ]
  },
  {
   "cell_type": "code",
   "execution_count": 13,
   "metadata": {},
   "outputs": [
    {
     "name": "stdout",
     "output_type": "stream",
     "text": [
      "WARNING: unit 19 of package RCH already in use\n",
      "****Warning -- two packages of the same type:  <class 'flopy.modflow.mfrch.ModflowRch'> <class 'flopy.modflow.mfrch.ModflowRch'>\n",
      "replacing existing Package...\n"
     ]
    },
    {
     "data": {
      "text/plain": [
       "\n",
       "    MODFLOW Well Package Class.\n",
       "\n",
       "    Parameters\n",
       "    ----------\n",
       "    model : model object\n",
       "        The model object (of type :class:`flopy.modflow.mf.Modflow`) to which\n",
       "        this package will be added.\n",
       "    ipakcb : int\n",
       "        A flag that is used to determine if cell-by-cell budget data should be\n",
       "        saved. If ipakcb is non-zero cell-by-cell budget data will be saved.\n",
       "        (default is 0).\n",
       "    stress_period_data : list of boundaries, or recarray of boundaries, or\n",
       "        dictionary of boundaries\n",
       "        Each well is defined through definition of\n",
       "        layer (int), row (int), column (int), flux (float).\n",
       "        The simplest form is a dictionary with a lists of boundaries for each\n",
       "        stress period, where each list of boundaries itself is a list of\n",
       "        boundaries. Indices of the dictionary are the numbers of the stress\n",
       "        period. This gives the form of:\n",
       "\n",
       "            stress_period_data =\n",
       "            {0: [\n",
       "                [lay, row, col, flux],\n",
       "                [lay, row, col, flux],\n",
       "                [lay, row, col, flux]\n",
       "                ],\n",
       "            1:  [\n",
       "                [lay, row, col, flux],\n",
       "                [lay, row, col, flux],\n",
       "                [lay, row, col, flux]\n",
       "                ], ...\n",
       "            kper:\n",
       "                [\n",
       "                [lay, row, col, flux],\n",
       "                [lay, row, col, flux],\n",
       "                [lay, row, col, flux]\n",
       "                ]\n",
       "            }\n",
       "\n",
       "        Note that if the number of lists is smaller than the number of stress\n",
       "        periods, then the last list of wells will apply until the end of the\n",
       "        simulation. Full details of all options to specify stress_period_data\n",
       "        can be found in the flopy3 boundaries Notebook in the basic\n",
       "        subdirectory of the examples directory\n",
       "    dtype : custom datatype of stress_period_data.\n",
       "        If None the default well datatype will be applied (default is None).\n",
       "    extension : string\n",
       "        Filename extension (default is 'wel')\n",
       "    options : list of strings\n",
       "        Package options (default is None).\n",
       "    unitnumber : int\n",
       "        File unit number (default is None).\n",
       "    filenames : str or list of str\n",
       "        Filenames to use for the package and the output files. If\n",
       "        filenames=None the package name will be created using the model name\n",
       "        and package extension and the cbc output name will be created using\n",
       "        the model name and .cbc extension (for example, modflowtest.cbc),\n",
       "        if ipakcbc is a number greater than zero. If a single string is passed\n",
       "        the package will be set to the string and cbc output names will be\n",
       "        created using the model name and .cbc extension, if ipakcbc is a\n",
       "        number greater than zero. To define the names for all package files\n",
       "        (input and output) the length of the list of strings should be 2.\n",
       "        Default is None.\n",
       "\n",
       "    Attributes\n",
       "    ----------\n",
       "    mxactw : int\n",
       "        Maximum number of wells for a stress period.  This is calculated\n",
       "        automatically by FloPy based on the information in\n",
       "        stress_period_data.\n",
       "\n",
       "    Methods\n",
       "    -------\n",
       "\n",
       "    See Also\n",
       "    --------\n",
       "\n",
       "    Notes\n",
       "    -----\n",
       "    Parameters are not supported in FloPy.\n",
       "\n",
       "    Examples\n",
       "    --------\n",
       "\n",
       "    >>> import flopy\n",
       "    >>> m = flopy.modflow.Modflow()\n",
       "    >>> lrcq = {0:[[2, 3, 4, -100.]], 1:[[2, 3, 4, -100.]]}\n",
       "    >>> wel = flopy.modflow.ModflowWel(m, stress_period_data=lrcq)\n",
       "\n",
       "     _name = WEL\n",
       " _parent = MODFLOW 1 layer(s) 100 row(s) 100 column(s) 1 stress period(s) ('flopy.modflow.mf.Modflow)\n",
       " acceptable_dtypes (list, items = 3)\n",
       " allowDuplicates = False ('bool)\n",
       " dtype = [('k', '<i4'), ('i', '<i4'), ('j', '<i4'), ('flux', '<f4')] ('numpy.dtype)\n",
       " extra = \n",
       " file_name = modelx.wel\n",
       " fn_path = .\\modelx.wel ('str)\n",
       " ipakcb = 0 ('int)\n",
       " iunitramp = None ('NoneType)\n",
       " np = 0 ('int)\n",
       " options (list, items = 0)\n",
       " phiramp = None ('NoneType)\n",
       " specify = False ('bool)\n",
       " stress_period_data = <flopy.utils.util_list.MfList object at 0x000001CD72546088> ('flopy.utils.util_list.MfList)\n",
       " unit_number = 20"
      ]
     },
     "execution_count": 13,
     "metadata": {},
     "output_type": "execute_result"
    }
   ],
   "source": [
    "fpm.ModflowRch(mf, rech=0.001)\n",
    "Q = { 0: [[0, 0, 50, -1], [0, 0, 150, -1]]} #-- [layer, row, column, injection rate]\n",
    "fpm.ModflowWel(mf, stress_period_data=Q)"
   ]
  },
  {
   "cell_type": "code",
   "execution_count": null,
   "metadata": {},
   "outputs": [],
   "source": []
  }
 ],
 "metadata": {
  "kernelspec": {
   "display_name": "Python 3",
   "language": "python",
   "name": "python3"
  },
  "language_info": {
   "codemirror_mode": {
    "name": "ipython",
    "version": 3
   },
   "file_extension": ".py",
   "mimetype": "text/x-python",
   "name": "python",
   "nbconvert_exporter": "python",
   "pygments_lexer": "ipython3",
   "version": "3.7.6"
  }
 },
 "nbformat": 4,
 "nbformat_minor": 4
}
